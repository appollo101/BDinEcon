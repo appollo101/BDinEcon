{
 "cells": [
  {
   "cell_type": "markdown",
   "metadata": {},
   "source": [
    "# World Bank Poverty Prediction\n",
    "The [task](https://blogs.worldbank.org/opendata/data-science-competition-predicting-poverty-hard-can-you-do-it-better) is to measure poverty using the collection of detailed data on households. The marriage of machine learning (ML) techniques to lighter collection instruments may transform how the World Bank and its development partners approach poverty measurement. Predicting a household's poverty status with a handful of easy-to-collect qualitative variables lowers costs, decreases turnaround times, and, ultimately, creates a more solid empirical foundation for policy. In this notebook, I tried several different ML algorithms to fit the training data of country A, and calculated the log-loss scores based on the test data. Results ... /* TODO*/"
   ]
  },
  {
   "cell_type": "markdown",
   "metadata": {},
   "source": [
    "## Import related packages"
   ]
  },
  {
   "cell_type": "code",
   "execution_count": 1,
   "metadata": {},
   "outputs": [],
   "source": [
    "%matplotlib inline\n",
    "\n",
    "import os\n",
    "import numpy as np\n",
    "import pandas as pd\n",
    "import matplotlib.pyplot as plt\n",
    "\n",
    "from sklearn import linear_model\n",
    "from sklearn.metrics import log_loss\n",
    "from sklearn.ensemble import RandomForestClassifier"
   ]
  },
  {
   "cell_type": "code",
   "execution_count": 2,
   "metadata": {},
   "outputs": [
    {
     "data": {
      "text/html": [
       "<div>\n",
       "<style scoped>\n",
       "    .dataframe tbody tr th:only-of-type {\n",
       "        vertical-align: middle;\n",
       "    }\n",
       "\n",
       "    .dataframe tbody tr th {\n",
       "        vertical-align: top;\n",
       "    }\n",
       "\n",
       "    .dataframe thead th {\n",
       "        text-align: right;\n",
       "    }\n",
       "</style>\n",
       "<table border=\"1\" class=\"dataframe\">\n",
       "  <thead>\n",
       "    <tr style=\"text-align: right;\">\n",
       "      <th></th>\n",
       "      <th>wBXbHZmp</th>\n",
       "      <th>SlDKnCuu</th>\n",
       "      <th>KAJOWiiw</th>\n",
       "      <th>DsKacCdL</th>\n",
       "      <th>rtPrBBPl</th>\n",
       "      <th>tMJrvvut</th>\n",
       "      <th>jdetlNNF</th>\n",
       "      <th>maLAYXwi</th>\n",
       "      <th>vwpsXRGk</th>\n",
       "      <th>sArDRIyX</th>\n",
       "      <th>...</th>\n",
       "      <th>sDGibZrP</th>\n",
       "      <th>CsGvKKBJ</th>\n",
       "      <th>OLpGAaEu</th>\n",
       "      <th>LrDrWRjC</th>\n",
       "      <th>JCDeZBXq</th>\n",
       "      <th>HGPWuGlV</th>\n",
       "      <th>GDUPaBQs</th>\n",
       "      <th>WuwrCsIY</th>\n",
       "      <th>AlDbXTlZ</th>\n",
       "      <th>country</th>\n",
       "    </tr>\n",
       "    <tr>\n",
       "      <th>id</th>\n",
       "      <th></th>\n",
       "      <th></th>\n",
       "      <th></th>\n",
       "      <th></th>\n",
       "      <th></th>\n",
       "      <th></th>\n",
       "      <th></th>\n",
       "      <th></th>\n",
       "      <th></th>\n",
       "      <th></th>\n",
       "      <th></th>\n",
       "      <th></th>\n",
       "      <th></th>\n",
       "      <th></th>\n",
       "      <th></th>\n",
       "      <th></th>\n",
       "      <th></th>\n",
       "      <th></th>\n",
       "      <th></th>\n",
       "      <th></th>\n",
       "      <th></th>\n",
       "    </tr>\n",
       "  </thead>\n",
       "  <tbody>\n",
       "    <tr>\n",
       "      <th>46107</th>\n",
       "      <td>JhtDR</td>\n",
       "      <td>GUusz</td>\n",
       "      <td>TuovO</td>\n",
       "      <td>ZYabk</td>\n",
       "      <td>feupP</td>\n",
       "      <td>PHMVg</td>\n",
       "      <td>NDTCU</td>\n",
       "      <td>cLAGr</td>\n",
       "      <td>XAmOF</td>\n",
       "      <td>MwLvg</td>\n",
       "      <td>...</td>\n",
       "      <td>JqHnW</td>\n",
       "      <td>MaXfS</td>\n",
       "      <td>etZsD</td>\n",
       "      <td>idRwx</td>\n",
       "      <td>LPtkN</td>\n",
       "      <td>vkbkA</td>\n",
       "      <td>qQxrL</td>\n",
       "      <td>AITFl</td>\n",
       "      <td>aQeIm</td>\n",
       "      <td>A</td>\n",
       "    </tr>\n",
       "    <tr>\n",
       "      <th>82739</th>\n",
       "      <td>JhtDR</td>\n",
       "      <td>GUusz</td>\n",
       "      <td>TuovO</td>\n",
       "      <td>ZYabk</td>\n",
       "      <td>feupP</td>\n",
       "      <td>PHMVg</td>\n",
       "      <td>NDTCU</td>\n",
       "      <td>sehIp</td>\n",
       "      <td>lwCkE</td>\n",
       "      <td>MwLvg</td>\n",
       "      <td>...</td>\n",
       "      <td>JqHnW</td>\n",
       "      <td>MaXfS</td>\n",
       "      <td>HxnJy</td>\n",
       "      <td>idRwx</td>\n",
       "      <td>UyAms</td>\n",
       "      <td>vkbkA</td>\n",
       "      <td>qQxrL</td>\n",
       "      <td>AITFl</td>\n",
       "      <td>cecIq</td>\n",
       "      <td>A</td>\n",
       "    </tr>\n",
       "    <tr>\n",
       "      <th>9646</th>\n",
       "      <td>JhtDR</td>\n",
       "      <td>GUusz</td>\n",
       "      <td>BIZns</td>\n",
       "      <td>ZYabk</td>\n",
       "      <td>uxuSS</td>\n",
       "      <td>PHMVg</td>\n",
       "      <td>NDTCU</td>\n",
       "      <td>sehIp</td>\n",
       "      <td>qNABl</td>\n",
       "      <td>MwLvg</td>\n",
       "      <td>...</td>\n",
       "      <td>JqHnW</td>\n",
       "      <td>MaXfS</td>\n",
       "      <td>USRak</td>\n",
       "      <td>idRwx</td>\n",
       "      <td>UyAms</td>\n",
       "      <td>vkbkA</td>\n",
       "      <td>qQxrL</td>\n",
       "      <td>AITFl</td>\n",
       "      <td>cecIq</td>\n",
       "      <td>A</td>\n",
       "    </tr>\n",
       "    <tr>\n",
       "      <th>16463</th>\n",
       "      <td>JhtDR</td>\n",
       "      <td>alLXR</td>\n",
       "      <td>TuovO</td>\n",
       "      <td>ZYabk</td>\n",
       "      <td>feupP</td>\n",
       "      <td>PHMVg</td>\n",
       "      <td>NDTCU</td>\n",
       "      <td>cLAGr</td>\n",
       "      <td>NdlDR</td>\n",
       "      <td>MwLvg</td>\n",
       "      <td>...</td>\n",
       "      <td>JqHnW</td>\n",
       "      <td>MaXfS</td>\n",
       "      <td>etZsD</td>\n",
       "      <td>idRwx</td>\n",
       "      <td>UyAms</td>\n",
       "      <td>vkbkA</td>\n",
       "      <td>qQxrL</td>\n",
       "      <td>GAZGl</td>\n",
       "      <td>aQeIm</td>\n",
       "      <td>A</td>\n",
       "    </tr>\n",
       "    <tr>\n",
       "      <th>98438</th>\n",
       "      <td>JhtDR</td>\n",
       "      <td>alLXR</td>\n",
       "      <td>BIZns</td>\n",
       "      <td>ZYabk</td>\n",
       "      <td>feupP</td>\n",
       "      <td>PHMVg</td>\n",
       "      <td>NDTCU</td>\n",
       "      <td>sehIp</td>\n",
       "      <td>bUhyU</td>\n",
       "      <td>MwLvg</td>\n",
       "      <td>...</td>\n",
       "      <td>JqHnW</td>\n",
       "      <td>MaXfS</td>\n",
       "      <td>HxnJy</td>\n",
       "      <td>idRwx</td>\n",
       "      <td>UyAms</td>\n",
       "      <td>vkbkA</td>\n",
       "      <td>qQxrL</td>\n",
       "      <td>AITFl</td>\n",
       "      <td>aQeIm</td>\n",
       "      <td>A</td>\n",
       "    </tr>\n",
       "  </tbody>\n",
       "</table>\n",
       "<p>5 rows × 345 columns</p>\n",
       "</div>"
      ],
      "text/plain": [
       "      wBXbHZmp SlDKnCuu KAJOWiiw DsKacCdL rtPrBBPl tMJrvvut jdetlNNF maLAYXwi  \\\n",
       "id                                                                              \n",
       "46107    JhtDR    GUusz    TuovO    ZYabk    feupP    PHMVg    NDTCU    cLAGr   \n",
       "82739    JhtDR    GUusz    TuovO    ZYabk    feupP    PHMVg    NDTCU    sehIp   \n",
       "9646     JhtDR    GUusz    BIZns    ZYabk    uxuSS    PHMVg    NDTCU    sehIp   \n",
       "16463    JhtDR    alLXR    TuovO    ZYabk    feupP    PHMVg    NDTCU    cLAGr   \n",
       "98438    JhtDR    alLXR    BIZns    ZYabk    feupP    PHMVg    NDTCU    sehIp   \n",
       "\n",
       "      vwpsXRGk sArDRIyX  ... sDGibZrP CsGvKKBJ OLpGAaEu LrDrWRjC JCDeZBXq  \\\n",
       "id                       ...                                                \n",
       "46107    XAmOF    MwLvg  ...    JqHnW    MaXfS    etZsD    idRwx    LPtkN   \n",
       "82739    lwCkE    MwLvg  ...    JqHnW    MaXfS    HxnJy    idRwx    UyAms   \n",
       "9646     qNABl    MwLvg  ...    JqHnW    MaXfS    USRak    idRwx    UyAms   \n",
       "16463    NdlDR    MwLvg  ...    JqHnW    MaXfS    etZsD    idRwx    UyAms   \n",
       "98438    bUhyU    MwLvg  ...    JqHnW    MaXfS    HxnJy    idRwx    UyAms   \n",
       "\n",
       "      HGPWuGlV GDUPaBQs WuwrCsIY AlDbXTlZ country  \n",
       "id                                                 \n",
       "46107    vkbkA    qQxrL    AITFl    aQeIm       A  \n",
       "82739    vkbkA    qQxrL    AITFl    cecIq       A  \n",
       "9646     vkbkA    qQxrL    AITFl    cecIq       A  \n",
       "16463    vkbkA    qQxrL    GAZGl    aQeIm       A  \n",
       "98438    vkbkA    qQxrL    AITFl    aQeIm       A  \n",
       "\n",
       "[5 rows x 345 columns]"
      ]
     },
     "execution_count": 2,
     "metadata": {},
     "output_type": "execute_result"
    }
   ],
   "source": [
    "# read training data and show preview\n",
    "a_train = pd.read_csv(\"worldbank_train_data.csv\", index_col='id')\n",
    "a_train.head()"
   ]
  },
  {
   "cell_type": "markdown",
   "metadata": {},
   "source": [
    "## Poverty Distribution"
   ]
  },
  {
   "cell_type": "code",
   "execution_count": 3,
   "metadata": {},
   "outputs": [
    {
     "data": {
      "text/plain": [
       "<matplotlib.axes._subplots.AxesSubplot at 0x169912b6898>"
      ]
     },
     "execution_count": 3,
     "metadata": {},
     "output_type": "execute_result"
    },
    {
     "data": {
      "image/png": "[encoded data removed]",
      "text/plain": [
       "<Figure size 432x288 with 1 Axes>"
      ]
     },
     "metadata": {
      "needs_background": "light"
     },
     "output_type": "display_data"
    }
   ],
   "source": [
    "a_train.poor.value_counts().plot.bar(title='Number of Poor for country A')"
   ]
  },
  {
   "cell_type": "code",
   "execution_count": 4,
   "metadata": {},
   "outputs": [
    {
     "name": "stdout",
     "output_type": "stream",
     "text": [
      "<class 'pandas.core.frame.DataFrame'>\n",
      "Int64Index: 6578 entries, 46107 to 39832\n",
      "Columns: 345 entries, wBXbHZmp to country\n",
      "dtypes: bool(1), int64(4), object(340)\n",
      "memory usage: 17.3+ MB\n"
     ]
    }
   ],
   "source": [
    "a_train.info()"
   ]
  },
  {
   "cell_type": "markdown",
   "metadata": {},
   "source": [
    "## Standarize Datasets"
   ]
  },
  {
   "cell_type": "code",
   "execution_count": 5,
   "metadata": {},
   "outputs": [],
   "source": [
    "# Standardize features\n",
    "def standardize(df, numeric_only=True):\n",
    "    numeric = df.select_dtypes(include=['int64', 'float64'])\n",
    "    \n",
    "    # subtracy mean and divide by std\n",
    "    df[numeric.columns] = (numeric - numeric.mean()) / numeric.std()\n",
    "    \n",
    "    return df\n",
    "    \n",
    "\n",
    "def pre_process_data(df, enforce_cols=None):\n",
    "    print(\"Input shape:\\t{}\".format(df.shape))\n",
    "        \n",
    "    df = standardize(df)\n",
    "    print(\"After standardization {}\".format(df.shape))\n",
    "        \n",
    "    # create dummy variables for categoricals\n",
    "    df = pd.get_dummies(df)\n",
    "    print(\"After converting categoricals:\\t{}\".format(df.shape))\n",
    "\n",
    "    # match test set and training set columns\n",
    "    if enforce_cols is not None:\n",
    "        to_drop = np.setdiff1d(df.columns, enforce_cols)\n",
    "        to_add = np.setdiff1d(enforce_cols, df.columns)\n",
    "\n",
    "        df.drop(to_drop, axis=1, inplace=True)\n",
    "        df = df.assign(**{c: 0 for c in to_add})\n",
    "    \n",
    "    df.fillna(0, inplace=True)\n",
    "    \n",
    "    return df"
   ]
  },
  {
   "cell_type": "code",
   "execution_count": 6,
   "metadata": {},
   "outputs": [
    {
     "name": "stdout",
     "output_type": "stream",
     "text": [
      "Country A\n",
      "Input shape:\t(6578, 344)\n",
      "After standardization (6578, 344)\n",
      "After converting categoricals:\t(6578, 856)\n"
     ]
    }
   ],
   "source": [
    "print(\"Country A\")\n",
    "aX_train = pre_process_data(a_train.drop('poor', axis=1))\n",
    "ay_train = np.ravel(a_train.poor)"
   ]
  },
  {
   "cell_type": "markdown",
   "metadata": {},
   "source": [
    "## Random Forest"
   ]
  },
  {
   "cell_type": "code",
   "execution_count": 7,
   "metadata": {},
   "outputs": [],
   "source": [
    "def train_model_RF(features, labels, **kwargs):\n",
    "    \n",
    "    # instantiate model\n",
    "    model = RandomForestClassifier(n_estimators=50, random_state=0)\n",
    "    \n",
    "    # train model\n",
    "    model.fit(features, labels)\n",
    "    \n",
    "    # get a (not-very-useful) sense of performance\n",
    "    accuracy = model.score(features, labels)\n",
    "    print(f\"In-sample accuracy: {accuracy:0.2%}\")\n",
    "    \n",
    "    return model"
   ]
  },
  {
   "cell_type": "code",
   "execution_count": 8,
   "metadata": {},
   "outputs": [
    {
     "name": "stdout",
     "output_type": "stream",
     "text": [
      "In-sample accuracy: 100.00%\n"
     ]
    }
   ],
   "source": [
    "model_a = train_model_RF(aX_train, ay_train)"
   ]
  },
  {
   "cell_type": "code",
   "execution_count": 9,
   "metadata": {},
   "outputs": [],
   "source": [
    "# load test data\n",
    "a_test   = pd.read_csv(\"worldbank_test_data.csv\", index_col='id')\n",
    "ay_test = np.ravel(a_test.poor)"
   ]
  },
  {
   "cell_type": "code",
   "execution_count": 10,
   "metadata": {},
   "outputs": [
    {
     "name": "stdout",
     "output_type": "stream",
     "text": [
      "Input shape:\t(1625, 345)\n",
      "After standardization (1625, 345)\n",
      "After converting categoricals:\t(1625, 846)\n"
     ]
    }
   ],
   "source": [
    "# preprocess the test data\n",
    "a_test_RF = pre_process_data(a_test, enforce_cols=aX_train.columns)"
   ]
  },
  {
   "cell_type": "code",
   "execution_count": 11,
   "metadata": {},
   "outputs": [],
   "source": [
    "a_preds_RF = model_a.predict_proba(a_test_RF)"
   ]
  },
  {
   "cell_type": "code",
   "execution_count": 12,
   "metadata": {},
   "outputs": [
    {
     "data": {
      "text/plain": [
       "array([[0.76, 0.24],\n",
       "       [0.74, 0.26],\n",
       "       [0.72, 0.28],\n",
       "       ...,\n",
       "       [0.68, 0.32],\n",
       "       [0.68, 0.32],\n",
       "       [0.74, 0.26]])"
      ]
     },
     "execution_count": 12,
     "metadata": {},
     "output_type": "execute_result"
    }
   ],
   "source": [
    "a_preds_RF"
   ]
  },
  {
   "cell_type": "code",
   "execution_count": 13,
   "metadata": {},
   "outputs": [
    {
     "data": {
      "text/plain": [
       "0.7104481501833004"
      ]
     },
     "execution_count": 13,
     "metadata": {},
     "output_type": "execute_result"
    }
   ],
   "source": [
    "ay_test = np.ravel(a_test.poor)\n",
    "log_loss(ay_test, a_preds_RF)"
   ]
  },
  {
   "cell_type": "markdown",
   "metadata": {},
   "source": [
    "## LASSO tuning parameters"
   ]
  },
  {
   "cell_type": "code",
   "execution_count": 14,
   "metadata": {},
   "outputs": [
    {
     "data": {
      "text/plain": [
       "Lasso(alpha=0.04, copy_X=True, fit_intercept=True, max_iter=1000,\n",
       "   normalize=False, positive=False, precompute=False, random_state=None,\n",
       "   selection='cyclic', tol=0.0001, warm_start=False)"
      ]
     },
     "execution_count": 14,
     "metadata": {},
     "output_type": "execute_result"
    }
   ],
   "source": [
    "clf_lasso = linear_model.Lasso( alpha = 0.04 )\n",
    "clf_lasso.fit(aX_train, ay_train)"
   ]
  },
  {
   "cell_type": "code",
   "execution_count": 15,
   "metadata": {},
   "outputs": [
    {
     "name": "stdout",
     "output_type": "stream",
     "text": [
      "Input shape:\t(1625, 345)\n",
      "After standardization (1625, 345)\n",
      "After converting categoricals:\t(1625, 846)\n"
     ]
    }
   ],
   "source": [
    "# preprocess the test data\n",
    "a_test_LASSO = pre_process_data(a_test, enforce_cols=aX_train.columns)"
   ]
  },
  {
   "cell_type": "code",
   "execution_count": 17,
   "metadata": {},
   "outputs": [],
   "source": [
    "a_preds_LASSO = clf_lasso.predict(a_test_LASSO)"
   ]
  },
  {
   "cell_type": "code",
   "execution_count": 18,
   "metadata": {},
   "outputs": [
    {
     "data": {
      "text/plain": [
       "0.5406033207901745"
      ]
     },
     "execution_count": 18,
     "metadata": {},
     "output_type": "execute_result"
    }
   ],
   "source": [
    "log_loss(ay_test, a_preds_LASSO)"
   ]
  },
  {
   "cell_type": "markdown",
   "metadata": {},
   "source": [
    "## Ridge"
   ]
  },
  {
   "cell_type": "code",
   "execution_count": 33,
   "metadata": {},
   "outputs": [
    {
     "data": {
      "text/plain": [
       "3.633141347685499"
      ]
     },
     "execution_count": 33,
     "metadata": {},
     "output_type": "execute_result"
    }
   ],
   "source": [
    "clf_rg = linear_model.Ridge(alpha=1.5)\n",
    "clf_rg.fit(aX_train, ay_train) \n",
    "a_preds_Ridge = clf_rg.predict(a_test_LASSO)\n",
    "log_loss(ay_test, a_preds_Ridge)"
   ]
  },
  {
   "cell_type": "markdown",
   "metadata": {},
   "source": [
    "## SVM"
   ]
  },
  {
   "cell_type": "code",
   "execution_count": 20,
   "metadata": {},
   "outputs": [],
   "source": [
    "from sklearn import svm"
   ]
  },
  {
   "cell_type": "code",
   "execution_count": 21,
   "metadata": {},
   "outputs": [
    {
     "data": {
      "text/plain": [
       "SVC(C=1.0, cache_size=200, class_weight=None, coef0=0.0,\n",
       "  decision_function_shape='ovr', degree=3, gamma='scale', kernel='rbf',\n",
       "  max_iter=-1, probability=False, random_state=None, shrinking=True,\n",
       "  tol=0.001, verbose=False)"
      ]
     },
     "execution_count": 21,
     "metadata": {},
     "output_type": "execute_result"
    }
   ],
   "source": [
    "clf_svm = svm.SVC(gamma='scale')\n",
    "clf_svm.fit(aX_train, ay_train)\n"
   ]
  },
  {
   "cell_type": "code",
   "execution_count": 23,
   "metadata": {},
   "outputs": [
    {
     "data": {
      "text/plain": [
       "15.175806982133063"
      ]
     },
     "execution_count": 23,
     "metadata": {},
     "output_type": "execute_result"
    }
   ],
   "source": [
    "a_preds_SVM = clf_svm.predict(a_test_LASSO)\n",
    "log_loss(ay_test, a_preds_SVM)"
   ]
  },
  {
   "cell_type": "code",
   "execution_count": 24,
   "metadata": {},
   "outputs": [
    {
     "data": {
      "text/plain": [
       "array([[-1.46803554,  0.32558545,  1.11146059, ...,  1.        ,\n",
       "         0.        ,  1.        ],\n",
       "       [ 0.61990777, -0.50054646, -0.00902796, ...,  1.        ,\n",
       "         0.        ,  1.        ],\n",
       "       [ 0.61990777, -0.50054646, -0.00902796, ...,  0.        ,\n",
       "         1.        ,  1.        ],\n",
       "       ...,\n",
       "       [-0.42406389,  0.32558545,  1.11146059, ...,  0.        ,\n",
       "         1.        ,  1.        ],\n",
       "       [ 0.61990777,  0.32558545, -0.00902796, ...,  0.        ,\n",
       "         1.        ,  1.        ],\n",
       "       [ 0.61990777, -0.50054646, -1.1295165 , ...,  0.        ,\n",
       "         1.        ,  1.        ]])"
      ]
     },
     "execution_count": 24,
     "metadata": {},
     "output_type": "execute_result"
    }
   ],
   "source": [
    "clf_svm.support_vectors_"
   ]
  },
  {
   "cell_type": "markdown",
   "metadata": {},
   "source": [
    "## Bagging"
   ]
  },
  {
   "cell_type": "code",
   "execution_count": null,
   "metadata": {},
   "outputs": [],
   "source": []
  },
  {
   "cell_type": "markdown",
   "metadata": {},
   "source": [
    "## Neural Networks"
   ]
  },
  {
   "cell_type": "code",
   "execution_count": null,
   "metadata": {},
   "outputs": [],
   "source": []
  }
 ],
 "metadata": {
  "kernelspec": {
   "display_name": "Python 3",
   "language": "python",
   "name": "python3"
  },
  "language_info": {
   "codemirror_mode": {
    "name": "ipython",
    "version": 3
   },
   "file_extension": ".py",
   "mimetype": "text/x-python",
   "name": "python",
   "nbconvert_exporter": "python",
   "pygments_lexer": "ipython3",
   "version": "3.6.7"
  }
 },
 "nbformat": 4,
 "nbformat_minor": 2
}
